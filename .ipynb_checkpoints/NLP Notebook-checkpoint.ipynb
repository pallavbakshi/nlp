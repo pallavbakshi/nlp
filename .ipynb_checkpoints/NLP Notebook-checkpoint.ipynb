{
 "cells": [
  {
   "cell_type": "code",
   "execution_count": 3,
   "metadata": {
    "collapsed": true
   },
   "outputs": [],
   "source": [
    "# NLP Notebook\n",
    "import numpy as np\n",
    "import pandas as pd\n",
    "import nltk\n",
    "import re #regex"
   ]
  },
  {
   "cell_type": "code",
   "execution_count": 115,
   "metadata": {},
   "outputs": [
    {
     "name": "stdout",
     "output_type": "stream",
     "text": [
      "position of abc in abcdef:  (0, 3)\n",
      "word match:  (0, 1)\n",
      "greedy word match:  (0, 5)\n",
      "digit match:  (0, 1)\n",
      "greedy digit match:  (0, 5)\n",
      "space match:  (0, 1)\n",
      "greedy space match:  (0, 3)\n",
      "wildcard match:  (0, 18)\n",
      "no space match:  (0, 10)\n",
      "lowercase match:  (0, 3)\n"
     ]
    }
   ],
   "source": [
    "# regex || re basics\n",
    "\n",
    "# matching a pattern with string\n",
    "pattern = 'abc'\n",
    "string1 = 'abcdef'\n",
    "pattern_match_string1 = re.match(pattern, string1)\n",
    "print \"position of {} in {}: \".format(pattern, string1), pattern_match_string1.span()\n",
    "\n",
    "# word match\n",
    "word_match = re.match('\\w', 'hello, how are you?')\n",
    "print \"word match: \", word_match.span()\n",
    "\n",
    "# greedy word match\n",
    "word_match = re.match('\\w+', 'hello, how are you?')\n",
    "print \"greedy word match: \", word_match.span()\n",
    "\n",
    "\n",
    "# digit match\n",
    "digit_match = re.match('\\d', '4j454')\n",
    "print \"digit match: \", digit_match.span()\n",
    "\n",
    "\n",
    "# greedy digit match\n",
    "digit_match = re.match('\\d+', '54353j34')\n",
    "print \"greedy digit match: \", digit_match.span()\n",
    "\n",
    "\n",
    "# space match\n",
    "space_match = re.match('\\s', ' hello')\n",
    "print \"space match: \", space_match.span()\n",
    "\n",
    "\n",
    "# greedy space match\n",
    "space_match = re.match('\\s*', '   34344')\n",
    "print \"greedy space match: \", space_match.span()\n",
    "\n",
    "\n",
    "# wildcard\n",
    "wildcard_match = re.match('.*', 'anything anything9')\n",
    "print \"wildcard match: \", wildcard_match.span()\n",
    "\n",
    "\n",
    "# greedy no space match\n",
    "no_space_match = re.match('\\S*', '99943221dd 33')\n",
    "print \"no space match: \", no_space_match.span()\n",
    "\n",
    "\n",
    "# lowercase match\n",
    "lowercase_match = re.match('[a-z]+', 'afd, how are you')\n",
    "print \"lowercase match: \", lowercase_match.span()\n"
   ]
  },
  {
   "cell_type": "code",
   "execution_count": 143,
   "metadata": {},
   "outputs": [
    {
     "name": "stdout",
     "output_type": "stream",
     "text": [
      "split on space:  ['Split', 'on', 'spaces']\n",
      "split on w:  ['hello, ho', ' are you doing?']\n",
      "words:  ['What', 'are', 'you', 'doing', 'You', 'can', 't', 'do', 'this']\n"
     ]
    }
   ],
   "source": [
    "# re module main functions\n",
    "# 1. match\n",
    "# 2. search\n",
    "# 3. findall\n",
    "# 4. split\n",
    "\n",
    "# split on space\n",
    "split_array = re.split('\\s+', 'Split on spaces')\n",
    "print \"split on space: \", split_array\n",
    "\n",
    "\n",
    "# split on letter w\n",
    "split_array_w = re.split('w', 'hello, how are you doing?')\n",
    "print \"split on w: \", split_array_w\n",
    "\n",
    "\n",
    "# findall words\n",
    "words = re.findall('\\w+', \"What are you doing. You can't do this.\")\n",
    "print \"words: \", words\n"
   ]
  },
  {
   "cell_type": "code",
   "execution_count": 145,
   "metadata": {},
   "outputs": [
    {
     "name": "stdout",
     "output_type": "stream",
     "text": [
      "<_sre.SRE_Match object at 0x7ff1d2726d98>\n",
      "None\n",
      "<_sre.SRE_Match object at 0x7ff1d2726d98>\n",
      "<_sre.SRE_Match object at 0x7ff1d2726d98>\n"
     ]
    }
   ],
   "source": [
    "# match vs search\n",
    "\n",
    "# match will try to match the string from the beginning until it can no longer match it\n",
    "print (re.match('abcd', 'abcdefgh'))\n",
    "\n",
    "print (re.match('abcd', 'xabcd')) # None returned\n",
    "\n",
    "# search will try go through the entire string to look for search options\n",
    "print (re.search('abcd', 'abcdefgh'))\n",
    "\n",
    "print (re.search('abcd', 'xabcd'))"
   ]
  },
  {
   "cell_type": "code",
   "execution_count": 128,
   "metadata": {},
   "outputs": [
    {
     "name": "stdout",
     "output_type": "stream",
     "text": [
      "['This is an amazing way to practice regex', \" Don't you think so\", ' Tell me', '']\n"
     ]
    }
   ],
   "source": [
    "sentence = \"This is an amazing way to practice regex. Don't you think so? Tell me!\"\n",
    "\n",
    "# Breaking the sentence on sentence ending\n",
    "sentence_endings = r\"[.!?]\"\n",
    "print(re.split(sentence_endings,sentence))"
   ]
  },
  {
   "cell_type": "code",
   "execution_count": 129,
   "metadata": {},
   "outputs": [
    {
     "name": "stdout",
     "output_type": "stream",
     "text": [
      "['This', 'Don', 'Tell']\n"
     ]
    }
   ],
   "source": [
    "# Find all the words starting with capital letter\n",
    "capitalized_words = r\"[A-Z]\\w+\"\n",
    "print(re.findall(capitalized_words, sentence))"
   ]
  },
  {
   "cell_type": "code",
   "execution_count": 131,
   "metadata": {},
   "outputs": [
    {
     "name": "stdout",
     "output_type": "stream",
     "text": [
      "['This', 'is', 'an', 'amazing', 'way', 'to', 'practice', 'regex.', \"Don't\", 'you', 'think', 'so?', 'Tell', 'me!']\n"
     ]
    }
   ],
   "source": [
    "# Break the sentence on space\n",
    "spaces = r\"\\s+\"\n",
    "print(re.split(spaces, sentence))"
   ]
  },
  {
   "cell_type": "code",
   "execution_count": 136,
   "metadata": {},
   "outputs": [
    {
     "name": "stdout",
     "output_type": "stream",
     "text": [
      "[]\n",
      "['2', '3']\n"
     ]
    }
   ],
   "source": [
    "# Find digits in the sentence (if any)\n",
    "digits = r\"\\d+\"\n",
    "print(re.findall(digits, sentence)) # no digits present in the sentence\n",
    "\n",
    "sentence2 = \"This is another amazing sentence. Let's call it sentence 2. No? Okay! Let's call it sentence 3.\"\n",
    "digits = r\"\\d+\"\n",
    "print(re.findall(digits, sentence2))"
   ]
  },
  {
   "cell_type": "code",
   "execution_count": 142,
   "metadata": {},
   "outputs": [
    {
     "name": "stdout",
     "output_type": "stream",
     "text": [
      "['This', 'is', 'an', 'amazing', 'way', 'to', 'practice', 'regex', \"Don't\", 'you', 'think', 'so', 'Tell', 'me']\n"
     ]
    }
   ],
   "source": [
    "# Break the sentence on space and remove sentence endings\n",
    "print([re.split(sentence_endings, x)[0] for x in re.split(spaces, sentence)])"
   ]
  },
  {
   "cell_type": "code",
   "execution_count": null,
   "metadata": {
    "collapsed": true
   },
   "outputs": [],
   "source": [
    "# tokenization\n",
    "# Different types of tokenization: word_tokenize, sent_tokenize, regexp_tokenize, TweetTokenizer\n"
   ]
  },
  {
   "cell_type": "code",
   "execution_count": 15,
   "metadata": {},
   "outputs": [
    {
     "name": "stdout",
     "output_type": "stream",
     "text": [
      "<built-in method group of _sre.SRE_Match object at 0x7ff1d287b920>\n"
     ]
    }
   ],
   "source": [
    "print pattern_match.group"
   ]
  }
 ],
 "metadata": {
  "kernelspec": {
   "display_name": "NLP",
   "language": "python",
   "name": "nlp"
  },
  "language_info": {
   "codemirror_mode": {
    "name": "ipython",
    "version": 2
   },
   "file_extension": ".py",
   "mimetype": "text/x-python",
   "name": "python",
   "nbconvert_exporter": "python",
   "pygments_lexer": "ipython2",
   "version": "2.7.6"
  }
 },
 "nbformat": 4,
 "nbformat_minor": 2
}
